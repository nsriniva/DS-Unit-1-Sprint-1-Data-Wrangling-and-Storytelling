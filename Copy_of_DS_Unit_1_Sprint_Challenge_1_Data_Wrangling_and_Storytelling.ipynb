{
  "nbformat": 4,
  "nbformat_minor": 0,
  "metadata": {
    "colab": {
      "name": "Copy of DS_Unit_1_Sprint_Challenge_1_Data_Wrangling_and_Storytelling.ipynb",
      "provenance": [],
      "include_colab_link": true
    },
    "kernelspec": {
      "name": "python3",
      "display_name": "Python 3"
    }
  },
  "cells": [
    {
      "cell_type": "markdown",
      "metadata": {
        "id": "view-in-github",
        "colab_type": "text"
      },
      "source": [
        "<a href=\"https://colab.research.google.com/github/nsriniva/DS-Unit-1-Sprint-1-Data-Wrangling-and-Storytelling/blob/master/Copy_of_DS_Unit_1_Sprint_Challenge_1_Data_Wrangling_and_Storytelling.ipynb\" target=\"_parent\"><img src=\"https://colab.research.google.com/assets/colab-badge.svg\" alt=\"Open In Colab\"/></a>"
      ]
    },
    {
      "cell_type": "markdown",
      "metadata": {
        "id": "2kYJKHpXFbN2",
        "colab_type": "text"
      },
      "source": [
        "# Data Science Unit 1 Sprint Challenge 1\n",
        "\n",
        "## Data Wrangling and Storytelling\n",
        "\n",
        "Taming data from its raw form into informative insights and stories."
      ]
    },
    {
      "cell_type": "markdown",
      "metadata": {
        "id": "qSvL3CeTFk9F",
        "colab_type": "text"
      },
      "source": [
        "## Data Wrangling\n",
        "\n",
        "In this Sprint Challenge you will first \"wrangle\" some data from [Gapminder](https://www.gapminder.org/about-gapminder/), a Swedish non-profit co-founded by Hans Rosling. \"Gapminder produces free teaching resources making the world understandable based on reliable statistics.\"\n",
        "- [Cell phones (total), by country and year](https://raw.githubusercontent.com/open-numbers/ddf--gapminder--systema_globalis/master/ddf--datapoints--cell_phones_total--by--geo--time.csv)\n",
        "- [Population (total), by country and year](https://raw.githubusercontent.com/open-numbers/ddf--gapminder--systema_globalis/master/ddf--datapoints--population_total--by--geo--time.csv)\n",
        "- [Geo country codes](https://github.com/open-numbers/ddf--gapminder--systema_globalis/blob/master/ddf--entities--geo--country.csv)\n",
        "\n",
        "These two links have everything you need to successfully complete the first part of this sprint challenge.\n",
        "- [Pandas documentation: Working with Text Data](https://pandas.pydata.org/pandas-docs/stable/text.html) (one question)\n",
        "- [Pandas Cheat Sheet](https://github.com/pandas-dev/pandas/blob/master/doc/cheatsheet/Pandas_Cheat_Sheet.pdf) (everything else)"
      ]
    },
    {
      "cell_type": "markdown",
      "metadata": {
        "id": "_45iUXguF3cJ",
        "colab_type": "text"
      },
      "source": [
        "### Part 1 - Load and Explore the Data\n",
        "\n",
        "Run the cell below to load the datasets into three dataframes and then follow the instructions below\n"
      ]
    },
    {
      "cell_type": "code",
      "metadata": {
        "id": "4OuxHNZzFpGT",
        "colab_type": "code",
        "colab": {}
      },
      "source": [
        "import pandas as pd\n",
        "cell_phones = pd.read_csv('https://raw.githubusercontent.com/open-numbers/ddf--gapminder--systema_globalis/master/countries-etc-datapoints/ddf--datapoints--cell_phones_total--by--geo--time.csv')\n",
        "population = pd.read_csv('https://raw.githubusercontent.com/open-numbers/ddf--gapminder--systema_globalis/master/countries-etc-datapoints/ddf--datapoints--population_total--by--geo--time.csv')\n",
        "geo_country_codes = (pd.read_csv('https://raw.githubusercontent.com/open-numbers/ddf--gapminder--systema_globalis/master/ddf--entities--geo--country.csv')\n",
        "                       .rename(columns={'country': 'geo', 'name': 'country'}))\n",
        "geo_country_codes = geo_country_codes[['geo','country']]"
      ],
      "execution_count": 193,
      "outputs": []
    },
    {
      "cell_type": "code",
      "metadata": {
        "id": "EixWLcO-cLa4",
        "colab_type": "code",
        "colab": {
          "base_uri": "https://localhost:8080/",
          "height": 204
        },
        "outputId": "266e525b-9a2a-4114-e3e6-1f03c3e39a46"
      },
      "source": [
        "cell_phones.head()"
      ],
      "execution_count": 194,
      "outputs": [
        {
          "output_type": "execute_result",
          "data": {
            "text/html": [
              "<div>\n",
              "<style scoped>\n",
              "    .dataframe tbody tr th:only-of-type {\n",
              "        vertical-align: middle;\n",
              "    }\n",
              "\n",
              "    .dataframe tbody tr th {\n",
              "        vertical-align: top;\n",
              "    }\n",
              "\n",
              "    .dataframe thead th {\n",
              "        text-align: right;\n",
              "    }\n",
              "</style>\n",
              "<table border=\"1\" class=\"dataframe\">\n",
              "  <thead>\n",
              "    <tr style=\"text-align: right;\">\n",
              "      <th></th>\n",
              "      <th>geo</th>\n",
              "      <th>time</th>\n",
              "      <th>cell_phones_total</th>\n",
              "    </tr>\n",
              "  </thead>\n",
              "  <tbody>\n",
              "    <tr>\n",
              "      <th>0</th>\n",
              "      <td>abw</td>\n",
              "      <td>1960</td>\n",
              "      <td>0.0</td>\n",
              "    </tr>\n",
              "    <tr>\n",
              "      <th>1</th>\n",
              "      <td>abw</td>\n",
              "      <td>1965</td>\n",
              "      <td>0.0</td>\n",
              "    </tr>\n",
              "    <tr>\n",
              "      <th>2</th>\n",
              "      <td>abw</td>\n",
              "      <td>1970</td>\n",
              "      <td>0.0</td>\n",
              "    </tr>\n",
              "    <tr>\n",
              "      <th>3</th>\n",
              "      <td>abw</td>\n",
              "      <td>1975</td>\n",
              "      <td>0.0</td>\n",
              "    </tr>\n",
              "    <tr>\n",
              "      <th>4</th>\n",
              "      <td>abw</td>\n",
              "      <td>1976</td>\n",
              "      <td>0.0</td>\n",
              "    </tr>\n",
              "  </tbody>\n",
              "</table>\n",
              "</div>"
            ],
            "text/plain": [
              "   geo  time  cell_phones_total\n",
              "0  abw  1960                0.0\n",
              "1  abw  1965                0.0\n",
              "2  abw  1970                0.0\n",
              "3  abw  1975                0.0\n",
              "4  abw  1976                0.0"
            ]
          },
          "metadata": {
            "tags": []
          },
          "execution_count": 194
        }
      ]
    },
    {
      "cell_type": "markdown",
      "metadata": {
        "id": "49XlFKmVIPl1",
        "colab_type": "text"
      },
      "source": [
        "Check for missing/null values in the three dataframes"
      ]
    },
    {
      "cell_type": "code",
      "metadata": {
        "id": "SwmSvUySJjXc",
        "colab_type": "code",
        "colab": {
          "base_uri": "https://localhost:8080/",
          "height": 544
        },
        "outputId": "7eb7a45b-53a1-4d94-959f-22683171934c"
      },
      "source": [
        "# Your Work Here\n",
        "print(cell_phones.isnull().sum(),'\\n')\n",
        "\n",
        "print(cell_phones.describe(), '\\n')\n",
        "\n",
        "print(cell_phones.dtypes)\n",
        "\n",
        "cell_phones.cell_phones_total.value_counts()"
      ],
      "execution_count": 195,
      "outputs": [
        {
          "output_type": "stream",
          "text": [
            "geo                  0\n",
            "time                 0\n",
            "cell_phones_total    0\n",
            "dtype: int64 \n",
            "\n",
            "              time  cell_phones_total\n",
            "count  9427.000000       9.427000e+03\n",
            "mean   1994.586189       9.051474e+06\n",
            "std      14.528624       5.766827e+07\n",
            "min    1960.000000       0.000000e+00\n",
            "25%    1983.000000       0.000000e+00\n",
            "50%    1995.000000       7.059000e+03\n",
            "75%    2007.000000       1.583935e+06\n",
            "max    2018.000000       1.649302e+09 \n",
            "\n",
            "geo                   object\n",
            "time                   int64\n",
            "cell_phones_total    float64\n",
            "dtype: object\n"
          ],
          "name": "stdout"
        },
        {
          "output_type": "execute_result",
          "data": {
            "text/plain": [
              "0.0          4058\n",
              "30000.0        12\n",
              "300.0           9\n",
              "1500.0          9\n",
              "5000.0          9\n",
              "             ... \n",
              "236175.0        1\n",
              "24402.0         1\n",
              "8068.0          1\n",
              "6378095.0       1\n",
              "778299.0        1\n",
              "Name: cell_phones_total, Length: 4952, dtype: int64"
            ]
          },
          "metadata": {
            "tags": []
          },
          "execution_count": 195
        }
      ]
    },
    {
      "cell_type": "code",
      "metadata": {
        "id": "Dqi58luk3_Da",
        "colab_type": "code",
        "colab": {
          "base_uri": "https://localhost:8080/",
          "height": 544
        },
        "outputId": "766612b0-6d7c-4270-bae3-cd200462d356"
      },
      "source": [
        "print(population.isnull().sum(),'\\n')\n",
        "\n",
        "print(population.describe(), '\\n')\n",
        "\n",
        "print(population.dtypes)\n",
        "\n",
        "population.population_total.value_counts()"
      ],
      "execution_count": 196,
      "outputs": [
        {
          "output_type": "stream",
          "text": [
            "geo                 0\n",
            "time                0\n",
            "population_total    0\n",
            "dtype: int64 \n",
            "\n",
            "               time  population_total\n",
            "count  59297.000000      5.929700e+04\n",
            "mean    1950.000000      2.312307e+07\n",
            "std       86.891469      1.002186e+08\n",
            "min     1800.000000      6.450000e+02\n",
            "25%     1875.000000      4.252800e+05\n",
            "50%     1950.000000      2.626649e+06\n",
            "75%     2025.000000      1.081713e+07\n",
            "max     2100.000000      1.651350e+09 \n",
            "\n",
            "geo                 object\n",
            "time                 int64\n",
            "population_total     int64\n",
            "dtype: object\n"
          ],
          "name": "stdout"
        },
        {
          "output_type": "execute_result",
          "data": {
            "text/plain": [
              "905         57\n",
              "37000       51\n",
              "64474       51\n",
              "81280       51\n",
              "40153       51\n",
              "            ..\n",
              "47228        1\n",
              "47745146     1\n",
              "59510        1\n",
              "1110133      1\n",
              "1708034      1\n",
              "Name: population_total, Length: 56397, dtype: int64"
            ]
          },
          "metadata": {
            "tags": []
          },
          "execution_count": 196
        }
      ]
    },
    {
      "cell_type": "code",
      "metadata": {
        "id": "3zB7PQ0A4EgT",
        "colab_type": "code",
        "colab": {
          "base_uri": "https://localhost:8080/",
          "height": 442
        },
        "outputId": "8c3f5a09-0028-4287-9a83-e9631e8c4890"
      },
      "source": [
        "print(geo_country_codes.isnull().sum(),'\\n')\n",
        "\n",
        "print(geo_country_codes.describe(), '\\n')\n",
        "\n",
        "print(geo_country_codes.dtypes)\n",
        "\n",
        "geo_country_codes.country.value_counts()"
      ],
      "execution_count": 197,
      "outputs": [
        {
          "output_type": "stream",
          "text": [
            "geo        0\n",
            "country    0\n",
            "dtype: int64 \n",
            "\n",
            "        geo     country\n",
            "count   273         273\n",
            "unique  273         273\n",
            "top     deu  St. Helena\n",
            "freq      1           1 \n",
            "\n",
            "geo        object\n",
            "country    object\n",
            "dtype: object\n"
          ],
          "name": "stdout"
        },
        {
          "output_type": "execute_result",
          "data": {
            "text/plain": [
              "St. Helena              1\n",
              "Brazil                  1\n",
              "Lebanon                 1\n",
              "Bouvet Island           1\n",
              "Mauritania              1\n",
              "                       ..\n",
              "Greece                  1\n",
              "Kiribati                1\n",
              "Bermuda                 1\n",
              "Eritrea and Ethiopia    1\n",
              "Grenada                 1\n",
              "Name: country, Length: 273, dtype: int64"
            ]
          },
          "metadata": {
            "tags": []
          },
          "execution_count": 197
        }
      ]
    },
    {
      "cell_type": "markdown",
      "metadata": {
        "id": "83ovVS6qIWS1",
        "colab_type": "text"
      },
      "source": [
        "Make a scatter plot from the `cell_phones` dataframe plotting \"time\" against \"cell_phones_total\""
      ]
    },
    {
      "cell_type": "code",
      "metadata": {
        "id": "ewdGy4NfG9vA",
        "colab_type": "code",
        "colab": {
          "base_uri": "https://localhost:8080/",
          "height": 318
        },
        "outputId": "ec010665-8805-47f6-f380-46f51ba201e7"
      },
      "source": [
        "# Your Work Here\n",
        "cell_phones.plot.scatter('time', 'cell_phones_total');"
      ],
      "execution_count": 198,
      "outputs": [
        {
          "output_type": "display_data",
          "data": {
            "image/png": "[encoded data removed]",
            "text/plain": [
              "<Figure size 432x288 with 1 Axes>"
            ]
          },
          "metadata": {
            "tags": []
          }
        }
      ]
    },
    {
      "cell_type": "markdown",
      "metadata": {
        "id": "IvJMtxmBI27k",
        "colab_type": "text"
      },
      "source": [
        "### Part 2 - Join data\n",
        "\n",
        "First, join the `cell_phones` and `population` dataframes (with an inner join on `geo` and `time`).\n",
        "\n",
        "The resulting dataframe's shape should be: (8590, 4)"
      ]
    },
    {
      "cell_type": "code",
      "metadata": {
        "id": "MFMA06QjG1KT",
        "colab_type": "code",
        "colab": {
          "base_uri": "https://localhost:8080/",
          "height": 419
        },
        "outputId": "a5459505-4330-4c50-a083-50215da54c8b"
      },
      "source": [
        "# Your Work Here\n",
        "cell_phones_population = cell_phones.merge(population, how='inner', on=['geo', 'time'])\n",
        "\n",
        "cell_phones_population"
      ],
      "execution_count": 199,
      "outputs": [
        {
          "output_type": "execute_result",
          "data": {
            "text/html": [
              "<div>\n",
              "<style scoped>\n",
              "    .dataframe tbody tr th:only-of-type {\n",
              "        vertical-align: middle;\n",
              "    }\n",
              "\n",
              "    .dataframe tbody tr th {\n",
              "        vertical-align: top;\n",
              "    }\n",
              "\n",
              "    .dataframe thead th {\n",
              "        text-align: right;\n",
              "    }\n",
              "</style>\n",
              "<table border=\"1\" class=\"dataframe\">\n",
              "  <thead>\n",
              "    <tr style=\"text-align: right;\">\n",
              "      <th></th>\n",
              "      <th>geo</th>\n",
              "      <th>time</th>\n",
              "      <th>cell_phones_total</th>\n",
              "      <th>population_total</th>\n",
              "    </tr>\n",
              "  </thead>\n",
              "  <tbody>\n",
              "    <tr>\n",
              "      <th>0</th>\n",
              "      <td>afg</td>\n",
              "      <td>1960</td>\n",
              "      <td>0.0</td>\n",
              "      <td>8996967</td>\n",
              "    </tr>\n",
              "    <tr>\n",
              "      <th>1</th>\n",
              "      <td>afg</td>\n",
              "      <td>1965</td>\n",
              "      <td>0.0</td>\n",
              "      <td>9956318</td>\n",
              "    </tr>\n",
              "    <tr>\n",
              "      <th>2</th>\n",
              "      <td>afg</td>\n",
              "      <td>1970</td>\n",
              "      <td>0.0</td>\n",
              "      <td>11173654</td>\n",
              "    </tr>\n",
              "    <tr>\n",
              "      <th>3</th>\n",
              "      <td>afg</td>\n",
              "      <td>1975</td>\n",
              "      <td>0.0</td>\n",
              "      <td>12689164</td>\n",
              "    </tr>\n",
              "    <tr>\n",
              "      <th>4</th>\n",
              "      <td>afg</td>\n",
              "      <td>1976</td>\n",
              "      <td>0.0</td>\n",
              "      <td>12943093</td>\n",
              "    </tr>\n",
              "    <tr>\n",
              "      <th>...</th>\n",
              "      <td>...</td>\n",
              "      <td>...</td>\n",
              "      <td>...</td>\n",
              "      <td>...</td>\n",
              "    </tr>\n",
              "    <tr>\n",
              "      <th>8781</th>\n",
              "      <td>zwe</td>\n",
              "      <td>2014</td>\n",
              "      <td>11798652.0</td>\n",
              "      <td>13586710</td>\n",
              "    </tr>\n",
              "    <tr>\n",
              "      <th>8782</th>\n",
              "      <td>zwe</td>\n",
              "      <td>2015</td>\n",
              "      <td>12757410.0</td>\n",
              "      <td>13814642</td>\n",
              "    </tr>\n",
              "    <tr>\n",
              "      <th>8783</th>\n",
              "      <td>zwe</td>\n",
              "      <td>2016</td>\n",
              "      <td>12878926.0</td>\n",
              "      <td>14030338</td>\n",
              "    </tr>\n",
              "    <tr>\n",
              "      <th>8784</th>\n",
              "      <td>zwe</td>\n",
              "      <td>2017</td>\n",
              "      <td>14092104.0</td>\n",
              "      <td>14236599</td>\n",
              "    </tr>\n",
              "    <tr>\n",
              "      <th>8785</th>\n",
              "      <td>zwe</td>\n",
              "      <td>2018</td>\n",
              "      <td>12908992.0</td>\n",
              "      <td>14438812</td>\n",
              "    </tr>\n",
              "  </tbody>\n",
              "</table>\n",
              "<p>8786 rows × 4 columns</p>\n",
              "</div>"
            ],
            "text/plain": [
              "      geo  time  cell_phones_total  population_total\n",
              "0     afg  1960                0.0           8996967\n",
              "1     afg  1965                0.0           9956318\n",
              "2     afg  1970                0.0          11173654\n",
              "3     afg  1975                0.0          12689164\n",
              "4     afg  1976                0.0          12943093\n",
              "...   ...   ...                ...               ...\n",
              "8781  zwe  2014         11798652.0          13586710\n",
              "8782  zwe  2015         12757410.0          13814642\n",
              "8783  zwe  2016         12878926.0          14030338\n",
              "8784  zwe  2017         14092104.0          14236599\n",
              "8785  zwe  2018         12908992.0          14438812\n",
              "\n",
              "[8786 rows x 4 columns]"
            ]
          },
          "metadata": {
            "tags": []
          },
          "execution_count": 199
        }
      ]
    },
    {
      "cell_type": "markdown",
      "metadata": {
        "id": "lziNWF2eJZwC",
        "colab_type": "text"
      },
      "source": [
        "Then, select the `geo` and `country` columns from the `geo_country_codes` dataframe, and join with your population and cell phone data.\n",
        "\n",
        "The resulting dataframe's shape should be: (8590, 5)"
      ]
    },
    {
      "cell_type": "code",
      "metadata": {
        "id": "KQa2Jw9gJa-g",
        "colab_type": "code",
        "colab": {
          "base_uri": "https://localhost:8080/",
          "height": 419
        },
        "outputId": "c9b6337e-b733-4fec-cff6-d8ae3c1cd57e"
      },
      "source": [
        "# Your Work Here\n",
        "cell_phones_pop_country = cell_phones_population.merge(geo_country_codes,how='inner')\n",
        "cell_phones_pop_country"
      ],
      "execution_count": 200,
      "outputs": [
        {
          "output_type": "execute_result",
          "data": {
            "text/html": [
              "<div>\n",
              "<style scoped>\n",
              "    .dataframe tbody tr th:only-of-type {\n",
              "        vertical-align: middle;\n",
              "    }\n",
              "\n",
              "    .dataframe tbody tr th {\n",
              "        vertical-align: top;\n",
              "    }\n",
              "\n",
              "    .dataframe thead th {\n",
              "        text-align: right;\n",
              "    }\n",
              "</style>\n",
              "<table border=\"1\" class=\"dataframe\">\n",
              "  <thead>\n",
              "    <tr style=\"text-align: right;\">\n",
              "      <th></th>\n",
              "      <th>geo</th>\n",
              "      <th>time</th>\n",
              "      <th>cell_phones_total</th>\n",
              "      <th>population_total</th>\n",
              "      <th>country</th>\n",
              "    </tr>\n",
              "  </thead>\n",
              "  <tbody>\n",
              "    <tr>\n",
              "      <th>0</th>\n",
              "      <td>afg</td>\n",
              "      <td>1960</td>\n",
              "      <td>0.0</td>\n",
              "      <td>8996967</td>\n",
              "      <td>Afghanistan</td>\n",
              "    </tr>\n",
              "    <tr>\n",
              "      <th>1</th>\n",
              "      <td>afg</td>\n",
              "      <td>1965</td>\n",
              "      <td>0.0</td>\n",
              "      <td>9956318</td>\n",
              "      <td>Afghanistan</td>\n",
              "    </tr>\n",
              "    <tr>\n",
              "      <th>2</th>\n",
              "      <td>afg</td>\n",
              "      <td>1970</td>\n",
              "      <td>0.0</td>\n",
              "      <td>11173654</td>\n",
              "      <td>Afghanistan</td>\n",
              "    </tr>\n",
              "    <tr>\n",
              "      <th>3</th>\n",
              "      <td>afg</td>\n",
              "      <td>1975</td>\n",
              "      <td>0.0</td>\n",
              "      <td>12689164</td>\n",
              "      <td>Afghanistan</td>\n",
              "    </tr>\n",
              "    <tr>\n",
              "      <th>4</th>\n",
              "      <td>afg</td>\n",
              "      <td>1976</td>\n",
              "      <td>0.0</td>\n",
              "      <td>12943093</td>\n",
              "      <td>Afghanistan</td>\n",
              "    </tr>\n",
              "    <tr>\n",
              "      <th>...</th>\n",
              "      <td>...</td>\n",
              "      <td>...</td>\n",
              "      <td>...</td>\n",
              "      <td>...</td>\n",
              "      <td>...</td>\n",
              "    </tr>\n",
              "    <tr>\n",
              "      <th>8781</th>\n",
              "      <td>zwe</td>\n",
              "      <td>2014</td>\n",
              "      <td>11798652.0</td>\n",
              "      <td>13586710</td>\n",
              "      <td>Zimbabwe</td>\n",
              "    </tr>\n",
              "    <tr>\n",
              "      <th>8782</th>\n",
              "      <td>zwe</td>\n",
              "      <td>2015</td>\n",
              "      <td>12757410.0</td>\n",
              "      <td>13814642</td>\n",
              "      <td>Zimbabwe</td>\n",
              "    </tr>\n",
              "    <tr>\n",
              "      <th>8783</th>\n",
              "      <td>zwe</td>\n",
              "      <td>2016</td>\n",
              "      <td>12878926.0</td>\n",
              "      <td>14030338</td>\n",
              "      <td>Zimbabwe</td>\n",
              "    </tr>\n",
              "    <tr>\n",
              "      <th>8784</th>\n",
              "      <td>zwe</td>\n",
              "      <td>2017</td>\n",
              "      <td>14092104.0</td>\n",
              "      <td>14236599</td>\n",
              "      <td>Zimbabwe</td>\n",
              "    </tr>\n",
              "    <tr>\n",
              "      <th>8785</th>\n",
              "      <td>zwe</td>\n",
              "      <td>2018</td>\n",
              "      <td>12908992.0</td>\n",
              "      <td>14438812</td>\n",
              "      <td>Zimbabwe</td>\n",
              "    </tr>\n",
              "  </tbody>\n",
              "</table>\n",
              "<p>8786 rows × 5 columns</p>\n",
              "</div>"
            ],
            "text/plain": [
              "      geo  time  cell_phones_total  population_total      country\n",
              "0     afg  1960                0.0           8996967  Afghanistan\n",
              "1     afg  1965                0.0           9956318  Afghanistan\n",
              "2     afg  1970                0.0          11173654  Afghanistan\n",
              "3     afg  1975                0.0          12689164  Afghanistan\n",
              "4     afg  1976                0.0          12943093  Afghanistan\n",
              "...   ...   ...                ...               ...          ...\n",
              "8781  zwe  2014         11798652.0          13586710     Zimbabwe\n",
              "8782  zwe  2015         12757410.0          13814642     Zimbabwe\n",
              "8783  zwe  2016         12878926.0          14030338     Zimbabwe\n",
              "8784  zwe  2017         14092104.0          14236599     Zimbabwe\n",
              "8785  zwe  2018         12908992.0          14438812     Zimbabwe\n",
              "\n",
              "[8786 rows x 5 columns]"
            ]
          },
          "metadata": {
            "tags": []
          },
          "execution_count": 200
        }
      ]
    },
    {
      "cell_type": "markdown",
      "metadata": {
        "id": "8xjRfkOjKECI",
        "colab_type": "text"
      },
      "source": [
        "### Part 3 - Make features\n",
        "\n",
        "Calculate the number of cell phones per person, and add this column onto your dataframe.\n",
        "\n",
        "(You've calculated correctly if you get 1.220 cell phones per person in the United States in 2017.)"
      ]
    },
    {
      "cell_type": "code",
      "metadata": {
        "id": "lOgLvqCQKFwY",
        "colab_type": "code",
        "colab": {
          "base_uri": "https://localhost:8080/",
          "height": 51
        },
        "outputId": "d47efe32-45f2-4255-c129-c9c542b4521e"
      },
      "source": [
        "# Your Work Here \n",
        "cell_phones_pop_country['cell_phones_per_person'] = cell_phones_pop_country.cell_phones_total/cell_phones_pop_country.population_total\n",
        "\n",
        "# Cell phones per person in the United States in 2017 is 1.230448\n",
        "cell_phones_pop_country[((cell_phones_pop_country.country=='United States') & (cell_phones_pop_country.time ==2017))].cell_phones_per_person"
      ],
      "execution_count": 201,
      "outputs": [
        {
          "output_type": "execute_result",
          "data": {
            "text/plain": [
              "8319    1.230448\n",
              "Name: cell_phones_per_person, dtype: float64"
            ]
          },
          "metadata": {
            "tags": []
          },
          "execution_count": 201
        }
      ]
    },
    {
      "cell_type": "markdown",
      "metadata": {
        "id": "j2xDq7MAKRjg",
        "colab_type": "text"
      },
      "source": [
        "### Part 4 - Process data\n",
        "\n",
        "Use the describe function, to describe your dataframe's numeric columns, and then its non-numeric columns.\n",
        "\n",
        "(You'll see the time period ranges from 1960 to 2017, and there are 195 unique countries represented.)"
      ]
    },
    {
      "cell_type": "code",
      "metadata": {
        "id": "7uTdL8eFKWTz",
        "colab_type": "code",
        "colab": {
          "base_uri": "https://localhost:8080/",
          "height": 173
        },
        "outputId": "5e5d6c6f-f214-4521-873e-82050ca433be"
      },
      "source": [
        "# Your Work Here\n",
        "# I see 195 unique countries\n",
        "cell_phones_pop_country.describe(exclude=['number'])"
      ],
      "execution_count": 202,
      "outputs": [
        {
          "output_type": "execute_result",
          "data": {
            "text/html": [
              "<div>\n",
              "<style scoped>\n",
              "    .dataframe tbody tr th:only-of-type {\n",
              "        vertical-align: middle;\n",
              "    }\n",
              "\n",
              "    .dataframe tbody tr th {\n",
              "        vertical-align: top;\n",
              "    }\n",
              "\n",
              "    .dataframe thead th {\n",
              "        text-align: right;\n",
              "    }\n",
              "</style>\n",
              "<table border=\"1\" class=\"dataframe\">\n",
              "  <thead>\n",
              "    <tr style=\"text-align: right;\">\n",
              "      <th></th>\n",
              "      <th>geo</th>\n",
              "      <th>country</th>\n",
              "    </tr>\n",
              "  </thead>\n",
              "  <tbody>\n",
              "    <tr>\n",
              "      <th>count</th>\n",
              "      <td>8786</td>\n",
              "      <td>8786</td>\n",
              "    </tr>\n",
              "    <tr>\n",
              "      <th>unique</th>\n",
              "      <td>195</td>\n",
              "      <td>195</td>\n",
              "    </tr>\n",
              "    <tr>\n",
              "      <th>top</th>\n",
              "      <td>deu</td>\n",
              "      <td>Angola</td>\n",
              "    </tr>\n",
              "    <tr>\n",
              "      <th>freq</th>\n",
              "      <td>47</td>\n",
              "      <td>47</td>\n",
              "    </tr>\n",
              "  </tbody>\n",
              "</table>\n",
              "</div>"
            ],
            "text/plain": [
              "         geo country\n",
              "count   8786    8786\n",
              "unique   195     195\n",
              "top      deu  Angola\n",
              "freq      47      47"
            ]
          },
          "metadata": {
            "tags": []
          },
          "execution_count": 202
        }
      ]
    },
    {
      "cell_type": "code",
      "metadata": {
        "id": "kTRDUly2Bp73",
        "colab_type": "code",
        "colab": {
          "base_uri": "https://localhost:8080/",
          "height": 297
        },
        "outputId": "4881da5a-1a2b-4bc6-fdf0-3533dba877a4"
      },
      "source": [
        "#I see time period ranges from 1960 to 2018\n",
        "cell_phones_pop_country.describe(include=['number'])"
      ],
      "execution_count": 203,
      "outputs": [
        {
          "output_type": "execute_result",
          "data": {
            "text/html": [
              "<div>\n",
              "<style scoped>\n",
              "    .dataframe tbody tr th:only-of-type {\n",
              "        vertical-align: middle;\n",
              "    }\n",
              "\n",
              "    .dataframe tbody tr th {\n",
              "        vertical-align: top;\n",
              "    }\n",
              "\n",
              "    .dataframe thead th {\n",
              "        text-align: right;\n",
              "    }\n",
              "</style>\n",
              "<table border=\"1\" class=\"dataframe\">\n",
              "  <thead>\n",
              "    <tr style=\"text-align: right;\">\n",
              "      <th></th>\n",
              "      <th>time</th>\n",
              "      <th>cell_phones_total</th>\n",
              "      <th>population_total</th>\n",
              "      <th>cell_phones_per_person</th>\n",
              "    </tr>\n",
              "  </thead>\n",
              "  <tbody>\n",
              "    <tr>\n",
              "      <th>count</th>\n",
              "      <td>8786.000000</td>\n",
              "      <td>8.786000e+03</td>\n",
              "      <td>8.786000e+03</td>\n",
              "      <td>8786.000000</td>\n",
              "    </tr>\n",
              "    <tr>\n",
              "      <th>mean</th>\n",
              "      <td>1994.721603</td>\n",
              "      <td>9.701331e+06</td>\n",
              "      <td>3.002185e+07</td>\n",
              "      <td>0.298025</td>\n",
              "    </tr>\n",
              "    <tr>\n",
              "      <th>std</th>\n",
              "      <td>14.525220</td>\n",
              "      <td>5.968296e+07</td>\n",
              "      <td>1.172833e+08</td>\n",
              "      <td>0.468332</td>\n",
              "    </tr>\n",
              "    <tr>\n",
              "      <th>min</th>\n",
              "      <td>1960.000000</td>\n",
              "      <td>0.000000e+00</td>\n",
              "      <td>4.377000e+03</td>\n",
              "      <td>0.000000</td>\n",
              "    </tr>\n",
              "    <tr>\n",
              "      <th>25%</th>\n",
              "      <td>1983.000000</td>\n",
              "      <td>0.000000e+00</td>\n",
              "      <td>1.474928e+06</td>\n",
              "      <td>0.000000</td>\n",
              "    </tr>\n",
              "    <tr>\n",
              "      <th>50%</th>\n",
              "      <td>1995.000000</td>\n",
              "      <td>8.500000e+03</td>\n",
              "      <td>5.816554e+06</td>\n",
              "      <td>0.002346</td>\n",
              "    </tr>\n",
              "    <tr>\n",
              "      <th>75%</th>\n",
              "      <td>2007.000000</td>\n",
              "      <td>2.028511e+06</td>\n",
              "      <td>1.823047e+07</td>\n",
              "      <td>0.532728</td>\n",
              "    </tr>\n",
              "    <tr>\n",
              "      <th>max</th>\n",
              "      <td>2018.000000</td>\n",
              "      <td>1.649302e+09</td>\n",
              "      <td>1.427648e+09</td>\n",
              "      <td>2.699755</td>\n",
              "    </tr>\n",
              "  </tbody>\n",
              "</table>\n",
              "</div>"
            ],
            "text/plain": [
              "              time  cell_phones_total  population_total  cell_phones_per_person\n",
              "count  8786.000000       8.786000e+03      8.786000e+03             8786.000000\n",
              "mean   1994.721603       9.701331e+06      3.002185e+07                0.298025\n",
              "std      14.525220       5.968296e+07      1.172833e+08                0.468332\n",
              "min    1960.000000       0.000000e+00      4.377000e+03                0.000000\n",
              "25%    1983.000000       0.000000e+00      1.474928e+06                0.000000\n",
              "50%    1995.000000       8.500000e+03      5.816554e+06                0.002346\n",
              "75%    2007.000000       2.028511e+06      1.823047e+07                0.532728\n",
              "max    2018.000000       1.649302e+09      1.427648e+09                2.699755"
            ]
          },
          "metadata": {
            "tags": []
          },
          "execution_count": 203
        }
      ]
    },
    {
      "cell_type": "markdown",
      "metadata": {
        "id": "KXEmo_HdKy_5",
        "colab_type": "text"
      },
      "source": [
        "In 2017, what were the top 5 countries with the most cell phones total?\n",
        "\n",
        "Your list of countries should have these totals:\n",
        "\n",
        "| country | cell phones total |\n",
        "|:-------:|:-----------------:|\n",
        "|    ?    |     1,474,097,000 |\n",
        "|    ?    |     1,168,902,277 |\n",
        "|    ?    |       458,923,202 |\n",
        "|    ?    |       395,881,000 |\n",
        "|    ?    |       236,488,548 |\n"
      ]
    },
    {
      "cell_type": "code",
      "metadata": {
        "id": "NbCVBsBIK06K",
        "colab_type": "code",
        "colab": {
          "base_uri": "https://localhost:8080/",
          "height": 204
        },
        "outputId": "25643212-abbc-4612-82e9-136f5afe553c"
      },
      "source": [
        "# Your Work Here\n",
        "\n",
        "#Compute the top 5 countries with the most cell_phones_total in 2017\n",
        "\n",
        "top_5_countries = cell_phones_pop_country[(cell_phones_pop_country.time == 2017)].sort_values(by=['cell_phones_total'], ascending=False).head(5)\n",
        "\n",
        "top_5_countries"
      ],
      "execution_count": 204,
      "outputs": [
        {
          "output_type": "execute_result",
          "data": {
            "text/html": [
              "<div>\n",
              "<style scoped>\n",
              "    .dataframe tbody tr th:only-of-type {\n",
              "        vertical-align: middle;\n",
              "    }\n",
              "\n",
              "    .dataframe tbody tr th {\n",
              "        vertical-align: top;\n",
              "    }\n",
              "\n",
              "    .dataframe thead th {\n",
              "        text-align: right;\n",
              "    }\n",
              "</style>\n",
              "<table border=\"1\" class=\"dataframe\">\n",
              "  <thead>\n",
              "    <tr style=\"text-align: right;\">\n",
              "      <th></th>\n",
              "      <th>geo</th>\n",
              "      <th>time</th>\n",
              "      <th>cell_phones_total</th>\n",
              "      <th>population_total</th>\n",
              "      <th>country</th>\n",
              "      <th>cell_phones_per_person</th>\n",
              "    </tr>\n",
              "  </thead>\n",
              "  <tbody>\n",
              "    <tr>\n",
              "      <th>1530</th>\n",
              "      <td>chn</td>\n",
              "      <td>2017</td>\n",
              "      <td>1.469882e+09</td>\n",
              "      <td>1421021794</td>\n",
              "      <td>China</td>\n",
              "      <td>1.034384</td>\n",
              "    </tr>\n",
              "    <tr>\n",
              "      <th>3674</th>\n",
              "      <td>ind</td>\n",
              "      <td>2017</td>\n",
              "      <td>1.168902e+09</td>\n",
              "      <td>1338676779</td>\n",
              "      <td>India</td>\n",
              "      <td>0.873177</td>\n",
              "    </tr>\n",
              "    <tr>\n",
              "      <th>3627</th>\n",
              "      <td>idn</td>\n",
              "      <td>2017</td>\n",
              "      <td>4.351936e+08</td>\n",
              "      <td>264650969</td>\n",
              "      <td>Indonesia</td>\n",
              "      <td>1.644406</td>\n",
              "    </tr>\n",
              "    <tr>\n",
              "      <th>8319</th>\n",
              "      <td>usa</td>\n",
              "      <td>2017</td>\n",
              "      <td>4.000000e+08</td>\n",
              "      <td>325084758</td>\n",
              "      <td>United States</td>\n",
              "      <td>1.230448</td>\n",
              "    </tr>\n",
              "    <tr>\n",
              "      <th>6783</th>\n",
              "      <td>rus</td>\n",
              "      <td>2017</td>\n",
              "      <td>2.272997e+08</td>\n",
              "      <td>145530091</td>\n",
              "      <td>Russia</td>\n",
              "      <td>1.561874</td>\n",
              "    </tr>\n",
              "  </tbody>\n",
              "</table>\n",
              "</div>"
            ],
            "text/plain": [
              "      geo  time  ...        country  cell_phones_per_person\n",
              "1530  chn  2017  ...          China                1.034384\n",
              "3674  ind  2017  ...          India                0.873177\n",
              "3627  idn  2017  ...      Indonesia                1.644406\n",
              "8319  usa  2017  ...  United States                1.230448\n",
              "6783  rus  2017  ...         Russia                1.561874\n",
              "\n",
              "[5 rows x 6 columns]"
            ]
          },
          "metadata": {
            "tags": []
          },
          "execution_count": 204
        }
      ]
    },
    {
      "cell_type": "code",
      "metadata": {
        "id": "VHpoIzKVEldA",
        "colab_type": "code",
        "colab": {
          "base_uri": "https://localhost:8080/",
          "height": 34
        },
        "outputId": "46578cd2-0d0f-4f31-a277-a3202b59610c"
      },
      "source": [
        "# The top 5 countries, in descending order, are 'China', 'India', 'Indonesia', 'United States', 'Russia'.\n",
        "top_5_countries.country.to_list()"
      ],
      "execution_count": 205,
      "outputs": [
        {
          "output_type": "execute_result",
          "data": {
            "text/plain": [
              "['China', 'India', 'Indonesia', 'United States', 'Russia']"
            ]
          },
          "metadata": {
            "tags": []
          },
          "execution_count": 205
        }
      ]
    },
    {
      "cell_type": "markdown",
      "metadata": {
        "id": "RcBnaSW_LYSk",
        "colab_type": "text"
      },
      "source": [
        "## Data Storytelling\n",
        "\n",
        "In this part of the sprint challenge you'll work with a dataset from **FiveThirtyEight's article, [Every Guest Jon Stewart Ever Had On ‘The Daily Show’](https://fivethirtyeight.com/features/every-guest-jon-stewart-ever-had-on-the-daily-show/)**!"
      ]
    },
    {
      "cell_type": "markdown",
      "metadata": {
        "id": "t0vUeBgBLcby",
        "colab_type": "text"
      },
      "source": [
        "### Part 0 — Run this starter code\n",
        "\n",
        "You don't need to add or change anything here. Just run this cell and it loads the data for you, into a dataframe named `df`.\n",
        "\n",
        "(You can explore the data if you want, but it's not required to pass the Sprint Challenge.)"
      ]
    },
    {
      "cell_type": "code",
      "metadata": {
        "id": "pc7YmWvlLas5",
        "colab_type": "code",
        "colab": {
          "base_uri": "https://localhost:8080/",
          "height": 252
        },
        "outputId": "2e591c3d-f82d-406d-8288-189f897260af"
      },
      "source": [
        "%matplotlib inline\n",
        "import matplotlib.pyplot as plt\n",
        "import numpy as np\n",
        "import pandas as pd\n",
        "import seaborn as sns\n",
        "\n",
        "cable_news_url = 'https://raw.githubusercontent.com/fivethirtyeight/data/master/media-mentions-2020/cable_weekly.csv'\n",
        "online_news_url = 'https://raw.githubusercontent.com/fivethirtyeight/data/master/media-mentions-2020/online_weekly.csv'\n",
        "\n",
        "cable = pd.read_csv(cable_news_url)\n",
        "online = pd.read_csv(online_news_url)\n",
        "\n",
        "merged = pd.merge(cable[['date', 'name', 'pct_of_all_candidate_clips']], online[['date', 'name', 'pct_of_all_candidate_stories']])\n",
        "merged['date'] = pd.to_datetime(merged['date'], infer_datetime_format=True)\n",
        "merged = merged.set_index('date')\n",
        "\n",
        "unique_dates = list(set(merged.index.to_list()))\n",
        "\n",
        "import datetime\n",
        "\n",
        "joe_biden_cable_multiple = []\n",
        "joe_biden_online_multiple = []\n",
        "\n",
        "for date in unique_dates:\n",
        "  that_day = merged.loc[datetime.date(year=date.year, month=date.month, day=date.day)]\n",
        "\n",
        "  joe_biden_cable_that_day = that_day[that_day['name']==\"Joe Biden\"]['pct_of_all_candidate_clips']\n",
        "  not_joe_biden_cable_max = that_day[that_day['name']!=\"Joe Biden\"]['pct_of_all_candidate_clips'].max()\n",
        "  joe_biden_cable_multiple_of_max = joe_biden_cable_that_day / not_joe_biden_cable_max\n",
        "\n",
        "  joe_biden_online_that_day = that_day[that_day['name']==\"Joe Biden\"]['pct_of_all_candidate_stories']\n",
        "  not_joe_biden_online_max = that_day[that_day['name']!=\"Joe Biden\"]['pct_of_all_candidate_stories'].max()\n",
        "  joe_biden_online_multiple_of_max = joe_biden_online_that_day / not_joe_biden_online_max\n",
        "\n",
        "\n",
        "  joe_biden_cable_multiple.append(joe_biden_cable_multiple_of_max.values[0])\n",
        "  joe_biden_online_multiple.append(joe_biden_online_multiple_of_max.values[0])\n",
        "\n",
        "df = pd.DataFrame({'date': unique_dates, 'biden_cable_multiple':joe_biden_cable_multiple, 'biden_online_multiple': joe_biden_online_multiple})\n",
        "df = df.set_index('date')\n",
        "df = df.sort_index()\n",
        "\n",
        "data_for_graph = df.loc[datetime.date(2019, 4, 15):]\n",
        "print(data_for_graph.shape)\n",
        "data_for_graph.head()"
      ],
      "execution_count": 206,
      "outputs": [
        {
          "output_type": "stream",
          "text": [
            "(27, 2)\n"
          ],
          "name": "stdout"
        },
        {
          "output_type": "execute_result",
          "data": {
            "text/html": [
              "<div>\n",
              "<style scoped>\n",
              "    .dataframe tbody tr th:only-of-type {\n",
              "        vertical-align: middle;\n",
              "    }\n",
              "\n",
              "    .dataframe tbody tr th {\n",
              "        vertical-align: top;\n",
              "    }\n",
              "\n",
              "    .dataframe thead th {\n",
              "        text-align: right;\n",
              "    }\n",
              "</style>\n",
              "<table border=\"1\" class=\"dataframe\">\n",
              "  <thead>\n",
              "    <tr style=\"text-align: right;\">\n",
              "      <th></th>\n",
              "      <th>biden_cable_multiple</th>\n",
              "      <th>biden_online_multiple</th>\n",
              "    </tr>\n",
              "    <tr>\n",
              "      <th>date</th>\n",
              "      <th></th>\n",
              "      <th></th>\n",
              "    </tr>\n",
              "  </thead>\n",
              "  <tbody>\n",
              "    <tr>\n",
              "      <th>2019-04-21</th>\n",
              "      <td>3.087352</td>\n",
              "      <td>1.107492</td>\n",
              "    </tr>\n",
              "    <tr>\n",
              "      <th>2019-04-28</th>\n",
              "      <td>3.707641</td>\n",
              "      <td>1.295820</td>\n",
              "    </tr>\n",
              "    <tr>\n",
              "      <th>2019-05-05</th>\n",
              "      <td>2.805169</td>\n",
              "      <td>1.306122</td>\n",
              "    </tr>\n",
              "    <tr>\n",
              "      <th>2019-05-12</th>\n",
              "      <td>3.235849</td>\n",
              "      <td>1.045386</td>\n",
              "    </tr>\n",
              "    <tr>\n",
              "      <th>2019-05-19</th>\n",
              "      <td>2.494624</td>\n",
              "      <td>1.119588</td>\n",
              "    </tr>\n",
              "  </tbody>\n",
              "</table>\n",
              "</div>"
            ],
            "text/plain": [
              "            biden_cable_multiple  biden_online_multiple\n",
              "date                                                   \n",
              "2019-04-21              3.087352               1.107492\n",
              "2019-04-28              3.707641               1.295820\n",
              "2019-05-05              2.805169               1.306122\n",
              "2019-05-12              3.235849               1.045386\n",
              "2019-05-19              2.494624               1.119588"
            ]
          },
          "metadata": {
            "tags": []
          },
          "execution_count": 206
        }
      ]
    },
    {
      "cell_type": "markdown",
      "metadata": {
        "id": "UthoeNABLwau",
        "colab_type": "text"
      },
      "source": [
        "### Part 1 — Recreate this explanatory visualization:\n",
        "\n"
      ]
    },
    {
      "cell_type": "code",
      "metadata": {
        "id": "oy9dt9l6Lz18",
        "colab_type": "code",
        "colab": {
          "base_uri": "https://localhost:8080/",
          "height": 447
        },
        "outputId": "1ff40138-c21e-4ce3-fcda-11e04c7d49c3"
      },
      "source": [
        "from IPython.display import display, Image\n",
        "png = 'https://fivethirtyeight.com/wp-content/uploads/2019/10/Mehta-Media1028-1028-1.png'\n",
        "example = Image(png, width=500)\n",
        "display(example)"
      ],
      "execution_count": 207,
      "outputs": [
        {
          "output_type": "display_data",
          "data": {
            "image/png": "[encoded data removed]",
            "text/plain": [
              "<IPython.core.display.Image object>"
            ]
          },
          "metadata": {
            "tags": [],
            "image/png": {
              "width": 500
            }
          }
        }
      ]
    },
    {
      "cell_type": "markdown",
      "metadata": {
        "id": "WEHUhxlTL2w2",
        "colab_type": "text"
      },
      "source": [
        "**Hints:**\n",
        "- You can choose any Python visualization library you want. I've verified the plot can be reproduced with matplotlib, pandas plot, or seaborn. I assume other libraries like altair or plotly would work too.\n",
        "\n",
        "**Expectations:** Your plot should include:\n",
        "- 2 lines visualizing the Cable news vs Online news lines The shapes of the lines should look roughly identical to 538's example. Each line should be a different color. (But you don't need to use the _same_ colors as 538.)\n",
        "- Legend **or** labels for the lines. (But **you don't need each label positioned next to its line or colored like 538.**)\n",
        "- Title in the upper left: _\"Biden's Ukraine-related media bump is fading\"_ with more visual emphasis than the subtitle. (Bolder and/or larger font.)\n",
        "- Subtitle underneath the title: _\"Biden's share of media mentions on each medium relative ot the next most-mentioned candidate each week\"_"
      ]
    },
    {
      "cell_type": "code",
      "metadata": {
        "id": "J-T3IU__L0ih",
        "colab_type": "code",
        "colab": {
          "base_uri": "https://localhost:8080/",
          "height": 447
        },
        "outputId": "21b54cc3-3f3f-4c46-a4e2-fbb9272daee8"
      },
      "source": [
        "# Your Work Here\n",
        "\n",
        "import matplotlib.pyplot as plt\n",
        "#Choose style\n",
        "plt.style.use('fivethirtyeight')\n",
        "\n",
        "#Access figure, axes objects of plot\n",
        "\n",
        "fig,ax = plt.subplots()\n",
        "\n",
        "#Set figure height and width, in inches\n",
        "fig.set_figheight(6)\n",
        "fig.set_figwidth(7)\n",
        "\n",
        "\n",
        "data_for_graph.biden_cable_multiple.plot(color='#4DC4CC', linewidth=3)\n",
        "\n",
        "data_for_graph.biden_online_multiple.plot(color='#ED7844' , linewidth=3)\n",
        "\n",
        "# Set the title\n",
        "ax.set_title(\"Biden's Ukraine-related media bump is fading\", fontweight='bold', loc='left', fontsize=15, x=-0.07, y=1.1)\n",
        "\n",
        "ax.text(x=2571, y=5.5, s=\"Biden's share of media mentions on each medium relative to the next\")\n",
        "ax.text(x=2571, y=5.3,s=\"most mentioned candidate each week\");\n",
        "\n",
        "ax.text(x=2572, y=1.5,s=\"Online news\", fontweight='bold', fontsize=14);\n",
        "ax.text(x=2572, y=3.8,s=\"Cable news\", fontweight='bold', fontsize=14);\n",
        "\n",
        "ax.set_xlabel('')\n",
        "\n",
        "ax.set_xticklabels(labels=[\"\",\"MAY'19\", 'JUNE','JULY', 'AUG.', 'SEPT.', 'OCT.'], color='gray', fontsize=11)\n",
        "\n",
        "ax.set_yticklabels(labels=['','EVEN', '2','3', '4', '5x'], color='gray', fontsize=11);\n"
      ],
      "execution_count": 208,
      "outputs": [
        {
          "output_type": "display_data",
          "data": {
            "image/png": "[encoded data removed]",
            "text/plain": [
              "<Figure size 504x432 with 1 Axes>"
            ]
          },
          "metadata": {
            "tags": []
          }
        }
      ]
    },
    {
      "cell_type": "markdown",
      "metadata": {
        "id": "svbK28PWNCic",
        "colab_type": "text"
      },
      "source": [
        "## How to get a 3 on this Sprint Challenge:\n",
        "\n",
        "Once you have completed the above making a solid attempt at each section, if you still have time remaining, you can go back and do any of the following to get a score of 3 on the above sections. Remember that everything in this section is **optional** and that we will average your scores between the different sections, so get the easy points first!\n",
        "\n",
        "Complete any of the following **within** their corresponding sections in the Sprint Challenge (go back up and add these thigns):\n",
        "\n",
        "### Data Wrangling Section 1\n",
        "\n",
        "Filter the `cell_phones` dataframe to only include information about the USA and China and then remake the scatterplot. \n",
        "\n",
        "### Data Wrangling Section 2\n",
        "\n",
        "Explain why we are using an \"inner\" join when we merge these dataframes. \n",
        "\n",
        "### Data Wrangling Section 3\n",
        "\n",
        "Modify the geo column to make the geo codes uppercase instead of lowercase.\n",
        "\n",
        "### Data Wrangling Section 4\n",
        "\n",
        "2017 was the first year that China had more cell phones than people.\n",
        "\n",
        "What was the first year that the USA had more cell phones than people?\n",
        "\n",
        "### Data Storytelling \n",
        "\n",
        "Keep on working on your graph to make it look particularly like the 538 graph by manipulating the graph's background color, the line colors, the x and y axis tick marks/labels, etc. \n",
        "\n",
        "If you have already completed everything else, take this as far as you can within the time limit.\n"
      ]
    },
    {
      "cell_type": "code",
      "metadata": {
        "id": "yrMJvHMGehx8",
        "colab_type": "code",
        "colab": {}
      },
      "source": [
        ""
      ],
      "execution_count": 208,
      "outputs": []
    }
  ]
}